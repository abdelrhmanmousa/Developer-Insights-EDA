{
 "cells": [
  {
   "cell_type": "markdown",
   "id": "8250420c",
   "metadata": {},
   "source": [
    "## Throughout this Code, I will try to find out the answer to the following questions.\n"
   ]
  },
  {
   "cell_type": "markdown",
   "id": "a155276f",
   "metadata": {},
   "source": [
    "- How many Developers are writing code for opensource?\n",
    "- How much money do the Developers get throughout the globe?\n",
    "- How much are the Developers satisfied with their jobs throughout the globe?\n",
    "- What is the relation between the age of a developer and his work?\n",
    "- What are the social media sites that the developers use?\n",
    "- Which is the most popular Operating System among the Developers?\n",
    "- Why do most of the Developers update their RESUME frequently?\n",
    "- What are the programming languages that the Developers had worked with and what languages do they want to use in future?\n",
    "- Which type of work location is preferred by the Developers?\n"
   ]
  },
  {
   "cell_type": "markdown",
   "id": "65816892",
   "metadata": {},
   "source": [
    "## **Importing**\n"
   ]
  },
  {
   "cell_type": "code",
   "execution_count": 1,
   "id": "81551e94",
   "metadata": {},
   "outputs": [],
   "source": [
    "import numpy as np\n",
    "import pandas as pd\n",
    "import matplotlib.pyplot as plt\n",
    "import seaborn as sns"
   ]
  },
  {
   "cell_type": "markdown",
   "id": "92631ef6",
   "metadata": {},
   "source": [
    "## **Load Data**\n"
   ]
  },
  {
   "cell_type": "code",
   "execution_count": 2,
   "id": "1175004f",
   "metadata": {},
   "outputs": [
    {
     "name": "stderr",
     "output_type": "stream",
     "text": [
      "<>:3: SyntaxWarning: invalid escape sequence '\\I'\n",
      "<>:3: SyntaxWarning: invalid escape sequence '\\I'\n",
      "C:\\Users\\LEGION\\AppData\\Local\\Temp\\ipykernel_3460\\3136564934.py:3: SyntaxWarning: invalid escape sequence '\\I'\n",
      "  survey = pd.read_csv(\"D:\\ITI DE\\Projects\\Data Exp-prep\\survey_results_public.csv\")\n"
     ]
    },
    {
     "data": {
      "text/html": [
       "<div>\n",
       "<style scoped>\n",
       "    .dataframe tbody tr th:only-of-type {\n",
       "        vertical-align: middle;\n",
       "    }\n",
       "\n",
       "    .dataframe tbody tr th {\n",
       "        vertical-align: top;\n",
       "    }\n",
       "\n",
       "    .dataframe thead th {\n",
       "        text-align: right;\n",
       "    }\n",
       "</style>\n",
       "<table border=\"1\" class=\"dataframe\">\n",
       "  <thead>\n",
       "    <tr style=\"text-align: right;\">\n",
       "      <th></th>\n",
       "      <th>MainBranch</th>\n",
       "      <th>Hobbyist</th>\n",
       "      <th>OpenSourcer</th>\n",
       "      <th>OpenSource</th>\n",
       "      <th>Employment</th>\n",
       "      <th>Country</th>\n",
       "      <th>Student</th>\n",
       "      <th>EdLevel</th>\n",
       "      <th>UndergradMajor</th>\n",
       "      <th>EduOther</th>\n",
       "      <th>...</th>\n",
       "      <th>WelcomeChange</th>\n",
       "      <th>SONewContent</th>\n",
       "      <th>Age</th>\n",
       "      <th>Gender</th>\n",
       "      <th>Trans</th>\n",
       "      <th>Sexuality</th>\n",
       "      <th>Ethnicity</th>\n",
       "      <th>Dependents</th>\n",
       "      <th>SurveyLength</th>\n",
       "      <th>SurveyEase</th>\n",
       "    </tr>\n",
       "    <tr>\n",
       "      <th>Respondent</th>\n",
       "      <th></th>\n",
       "      <th></th>\n",
       "      <th></th>\n",
       "      <th></th>\n",
       "      <th></th>\n",
       "      <th></th>\n",
       "      <th></th>\n",
       "      <th></th>\n",
       "      <th></th>\n",
       "      <th></th>\n",
       "      <th></th>\n",
       "      <th></th>\n",
       "      <th></th>\n",
       "      <th></th>\n",
       "      <th></th>\n",
       "      <th></th>\n",
       "      <th></th>\n",
       "      <th></th>\n",
       "      <th></th>\n",
       "      <th></th>\n",
       "      <th></th>\n",
       "    </tr>\n",
       "  </thead>\n",
       "  <tbody>\n",
       "    <tr>\n",
       "      <th>1</th>\n",
       "      <td>I am a student who is learning to code</td>\n",
       "      <td>Yes</td>\n",
       "      <td>Never</td>\n",
       "      <td>The quality of OSS and closed source software ...</td>\n",
       "      <td>Not employed, and not looking for work</td>\n",
       "      <td>United Kingdom</td>\n",
       "      <td>No</td>\n",
       "      <td>Primary/elementary school</td>\n",
       "      <td>NaN</td>\n",
       "      <td>Taught yourself a new language, framework, or ...</td>\n",
       "      <td>...</td>\n",
       "      <td>Just as welcome now as I felt last year</td>\n",
       "      <td>Tech articles written by other developers;Indu...</td>\n",
       "      <td>14.0</td>\n",
       "      <td>Man</td>\n",
       "      <td>No</td>\n",
       "      <td>Straight / Heterosexual</td>\n",
       "      <td>NaN</td>\n",
       "      <td>No</td>\n",
       "      <td>Appropriate in length</td>\n",
       "      <td>Neither easy nor difficult</td>\n",
       "    </tr>\n",
       "    <tr>\n",
       "      <th>2</th>\n",
       "      <td>I am a student who is learning to code</td>\n",
       "      <td>No</td>\n",
       "      <td>Less than once per year</td>\n",
       "      <td>The quality of OSS and closed source software ...</td>\n",
       "      <td>Not employed, but looking for work</td>\n",
       "      <td>Bosnia and Herzegovina</td>\n",
       "      <td>Yes, full-time</td>\n",
       "      <td>Secondary school (e.g. American high school, G...</td>\n",
       "      <td>NaN</td>\n",
       "      <td>Taken an online course in programming or softw...</td>\n",
       "      <td>...</td>\n",
       "      <td>Just as welcome now as I felt last year</td>\n",
       "      <td>Tech articles written by other developers;Indu...</td>\n",
       "      <td>19.0</td>\n",
       "      <td>Man</td>\n",
       "      <td>No</td>\n",
       "      <td>Straight / Heterosexual</td>\n",
       "      <td>NaN</td>\n",
       "      <td>No</td>\n",
       "      <td>Appropriate in length</td>\n",
       "      <td>Neither easy nor difficult</td>\n",
       "    </tr>\n",
       "    <tr>\n",
       "      <th>3</th>\n",
       "      <td>I am not primarily a developer, but I write co...</td>\n",
       "      <td>Yes</td>\n",
       "      <td>Never</td>\n",
       "      <td>The quality of OSS and closed source software ...</td>\n",
       "      <td>Employed full-time</td>\n",
       "      <td>Thailand</td>\n",
       "      <td>No</td>\n",
       "      <td>Bachelor’s degree (BA, BS, B.Eng., etc.)</td>\n",
       "      <td>Web development or web design</td>\n",
       "      <td>Taught yourself a new language, framework, or ...</td>\n",
       "      <td>...</td>\n",
       "      <td>Just as welcome now as I felt last year</td>\n",
       "      <td>Tech meetups or events in your area;Courses on...</td>\n",
       "      <td>28.0</td>\n",
       "      <td>Man</td>\n",
       "      <td>No</td>\n",
       "      <td>Straight / Heterosexual</td>\n",
       "      <td>NaN</td>\n",
       "      <td>Yes</td>\n",
       "      <td>Appropriate in length</td>\n",
       "      <td>Neither easy nor difficult</td>\n",
       "    </tr>\n",
       "    <tr>\n",
       "      <th>4</th>\n",
       "      <td>I am a developer by profession</td>\n",
       "      <td>No</td>\n",
       "      <td>Never</td>\n",
       "      <td>The quality of OSS and closed source software ...</td>\n",
       "      <td>Employed full-time</td>\n",
       "      <td>United States</td>\n",
       "      <td>No</td>\n",
       "      <td>Bachelor’s degree (BA, BS, B.Eng., etc.)</td>\n",
       "      <td>Computer science, computer engineering, or sof...</td>\n",
       "      <td>Taken an online course in programming or softw...</td>\n",
       "      <td>...</td>\n",
       "      <td>Just as welcome now as I felt last year</td>\n",
       "      <td>Tech articles written by other developers;Indu...</td>\n",
       "      <td>22.0</td>\n",
       "      <td>Man</td>\n",
       "      <td>No</td>\n",
       "      <td>Straight / Heterosexual</td>\n",
       "      <td>White or of European descent</td>\n",
       "      <td>No</td>\n",
       "      <td>Appropriate in length</td>\n",
       "      <td>Easy</td>\n",
       "    </tr>\n",
       "    <tr>\n",
       "      <th>5</th>\n",
       "      <td>I am a developer by profession</td>\n",
       "      <td>Yes</td>\n",
       "      <td>Once a month or more often</td>\n",
       "      <td>OSS is, on average, of HIGHER quality than pro...</td>\n",
       "      <td>Employed full-time</td>\n",
       "      <td>Ukraine</td>\n",
       "      <td>No</td>\n",
       "      <td>Bachelor’s degree (BA, BS, B.Eng., etc.)</td>\n",
       "      <td>Computer science, computer engineering, or sof...</td>\n",
       "      <td>Taken an online course in programming or softw...</td>\n",
       "      <td>...</td>\n",
       "      <td>Just as welcome now as I felt last year</td>\n",
       "      <td>Tech meetups or events in your area;Courses on...</td>\n",
       "      <td>30.0</td>\n",
       "      <td>Man</td>\n",
       "      <td>No</td>\n",
       "      <td>Straight / Heterosexual</td>\n",
       "      <td>White or of European descent;Multiracial</td>\n",
       "      <td>No</td>\n",
       "      <td>Appropriate in length</td>\n",
       "      <td>Easy</td>\n",
       "    </tr>\n",
       "    <tr>\n",
       "      <th>...</th>\n",
       "      <td>...</td>\n",
       "      <td>...</td>\n",
       "      <td>...</td>\n",
       "      <td>...</td>\n",
       "      <td>...</td>\n",
       "      <td>...</td>\n",
       "      <td>...</td>\n",
       "      <td>...</td>\n",
       "      <td>...</td>\n",
       "      <td>...</td>\n",
       "      <td>...</td>\n",
       "      <td>...</td>\n",
       "      <td>...</td>\n",
       "      <td>...</td>\n",
       "      <td>...</td>\n",
       "      <td>...</td>\n",
       "      <td>...</td>\n",
       "      <td>...</td>\n",
       "      <td>...</td>\n",
       "      <td>...</td>\n",
       "      <td>...</td>\n",
       "    </tr>\n",
       "    <tr>\n",
       "      <th>88377</th>\n",
       "      <td>NaN</td>\n",
       "      <td>Yes</td>\n",
       "      <td>Less than once a month but more than once per ...</td>\n",
       "      <td>The quality of OSS and closed source software ...</td>\n",
       "      <td>Not employed, and not looking for work</td>\n",
       "      <td>Canada</td>\n",
       "      <td>No</td>\n",
       "      <td>Primary/elementary school</td>\n",
       "      <td>NaN</td>\n",
       "      <td>Taught yourself a new language, framework, or ...</td>\n",
       "      <td>...</td>\n",
       "      <td>NaN</td>\n",
       "      <td>Tech articles written by other developers;Tech...</td>\n",
       "      <td>NaN</td>\n",
       "      <td>Man</td>\n",
       "      <td>No</td>\n",
       "      <td>NaN</td>\n",
       "      <td>NaN</td>\n",
       "      <td>No</td>\n",
       "      <td>Appropriate in length</td>\n",
       "      <td>Easy</td>\n",
       "    </tr>\n",
       "    <tr>\n",
       "      <th>88601</th>\n",
       "      <td>NaN</td>\n",
       "      <td>No</td>\n",
       "      <td>Never</td>\n",
       "      <td>The quality of OSS and closed source software ...</td>\n",
       "      <td>NaN</td>\n",
       "      <td>NaN</td>\n",
       "      <td>NaN</td>\n",
       "      <td>NaN</td>\n",
       "      <td>NaN</td>\n",
       "      <td>NaN</td>\n",
       "      <td>...</td>\n",
       "      <td>NaN</td>\n",
       "      <td>NaN</td>\n",
       "      <td>NaN</td>\n",
       "      <td>NaN</td>\n",
       "      <td>NaN</td>\n",
       "      <td>NaN</td>\n",
       "      <td>NaN</td>\n",
       "      <td>NaN</td>\n",
       "      <td>NaN</td>\n",
       "      <td>NaN</td>\n",
       "    </tr>\n",
       "    <tr>\n",
       "      <th>88802</th>\n",
       "      <td>NaN</td>\n",
       "      <td>No</td>\n",
       "      <td>Never</td>\n",
       "      <td>NaN</td>\n",
       "      <td>Employed full-time</td>\n",
       "      <td>NaN</td>\n",
       "      <td>NaN</td>\n",
       "      <td>NaN</td>\n",
       "      <td>NaN</td>\n",
       "      <td>NaN</td>\n",
       "      <td>...</td>\n",
       "      <td>NaN</td>\n",
       "      <td>NaN</td>\n",
       "      <td>NaN</td>\n",
       "      <td>NaN</td>\n",
       "      <td>NaN</td>\n",
       "      <td>NaN</td>\n",
       "      <td>NaN</td>\n",
       "      <td>NaN</td>\n",
       "      <td>NaN</td>\n",
       "      <td>NaN</td>\n",
       "    </tr>\n",
       "    <tr>\n",
       "      <th>88816</th>\n",
       "      <td>NaN</td>\n",
       "      <td>No</td>\n",
       "      <td>Never</td>\n",
       "      <td>OSS is, on average, of HIGHER quality than pro...</td>\n",
       "      <td>Independent contractor, freelancer, or self-em...</td>\n",
       "      <td>NaN</td>\n",
       "      <td>NaN</td>\n",
       "      <td>NaN</td>\n",
       "      <td>NaN</td>\n",
       "      <td>NaN</td>\n",
       "      <td>...</td>\n",
       "      <td>NaN</td>\n",
       "      <td>NaN</td>\n",
       "      <td>NaN</td>\n",
       "      <td>NaN</td>\n",
       "      <td>NaN</td>\n",
       "      <td>NaN</td>\n",
       "      <td>NaN</td>\n",
       "      <td>NaN</td>\n",
       "      <td>NaN</td>\n",
       "      <td>NaN</td>\n",
       "    </tr>\n",
       "    <tr>\n",
       "      <th>88863</th>\n",
       "      <td>NaN</td>\n",
       "      <td>Yes</td>\n",
       "      <td>Less than once per year</td>\n",
       "      <td>OSS is, on average, of HIGHER quality than pro...</td>\n",
       "      <td>Not employed, and not looking for work</td>\n",
       "      <td>Spain</td>\n",
       "      <td>Yes, full-time</td>\n",
       "      <td>Professional degree (JD, MD, etc.)</td>\n",
       "      <td>Computer science, computer engineering, or sof...</td>\n",
       "      <td>Taken an online course in programming or softw...</td>\n",
       "      <td>...</td>\n",
       "      <td>Somewhat less welcome now than last year</td>\n",
       "      <td>Tech articles written by other developers;Indu...</td>\n",
       "      <td>18.0</td>\n",
       "      <td>Man</td>\n",
       "      <td>No</td>\n",
       "      <td>Straight / Heterosexual</td>\n",
       "      <td>Hispanic or Latino/Latina;White or of European...</td>\n",
       "      <td>No</td>\n",
       "      <td>Appropriate in length</td>\n",
       "      <td>Easy</td>\n",
       "    </tr>\n",
       "  </tbody>\n",
       "</table>\n",
       "<p>88883 rows × 84 columns</p>\n",
       "</div>"
      ],
      "text/plain": [
       "                                                   MainBranch Hobbyist  \\\n",
       "Respondent                                                               \n",
       "1                      I am a student who is learning to code      Yes   \n",
       "2                      I am a student who is learning to code       No   \n",
       "3           I am not primarily a developer, but I write co...      Yes   \n",
       "4                              I am a developer by profession       No   \n",
       "5                              I am a developer by profession      Yes   \n",
       "...                                                       ...      ...   \n",
       "88377                                                     NaN      Yes   \n",
       "88601                                                     NaN       No   \n",
       "88802                                                     NaN       No   \n",
       "88816                                                     NaN       No   \n",
       "88863                                                     NaN      Yes   \n",
       "\n",
       "                                                  OpenSourcer  \\\n",
       "Respondent                                                      \n",
       "1                                                       Never   \n",
       "2                                     Less than once per year   \n",
       "3                                                       Never   \n",
       "4                                                       Never   \n",
       "5                                  Once a month or more often   \n",
       "...                                                       ...   \n",
       "88377       Less than once a month but more than once per ...   \n",
       "88601                                                   Never   \n",
       "88802                                                   Never   \n",
       "88816                                                   Never   \n",
       "88863                                 Less than once per year   \n",
       "\n",
       "                                                   OpenSource  \\\n",
       "Respondent                                                      \n",
       "1           The quality of OSS and closed source software ...   \n",
       "2           The quality of OSS and closed source software ...   \n",
       "3           The quality of OSS and closed source software ...   \n",
       "4           The quality of OSS and closed source software ...   \n",
       "5           OSS is, on average, of HIGHER quality than pro...   \n",
       "...                                                       ...   \n",
       "88377       The quality of OSS and closed source software ...   \n",
       "88601       The quality of OSS and closed source software ...   \n",
       "88802                                                     NaN   \n",
       "88816       OSS is, on average, of HIGHER quality than pro...   \n",
       "88863       OSS is, on average, of HIGHER quality than pro...   \n",
       "\n",
       "                                                   Employment  \\\n",
       "Respondent                                                      \n",
       "1                      Not employed, and not looking for work   \n",
       "2                          Not employed, but looking for work   \n",
       "3                                          Employed full-time   \n",
       "4                                          Employed full-time   \n",
       "5                                          Employed full-time   \n",
       "...                                                       ...   \n",
       "88377                  Not employed, and not looking for work   \n",
       "88601                                                     NaN   \n",
       "88802                                      Employed full-time   \n",
       "88816       Independent contractor, freelancer, or self-em...   \n",
       "88863                  Not employed, and not looking for work   \n",
       "\n",
       "                           Country         Student  \\\n",
       "Respondent                                           \n",
       "1                   United Kingdom              No   \n",
       "2           Bosnia and Herzegovina  Yes, full-time   \n",
       "3                         Thailand              No   \n",
       "4                    United States              No   \n",
       "5                          Ukraine              No   \n",
       "...                            ...             ...   \n",
       "88377                       Canada              No   \n",
       "88601                          NaN             NaN   \n",
       "88802                          NaN             NaN   \n",
       "88816                          NaN             NaN   \n",
       "88863                        Spain  Yes, full-time   \n",
       "\n",
       "                                                      EdLevel  \\\n",
       "Respondent                                                      \n",
       "1                                   Primary/elementary school   \n",
       "2           Secondary school (e.g. American high school, G...   \n",
       "3                    Bachelor’s degree (BA, BS, B.Eng., etc.)   \n",
       "4                    Bachelor’s degree (BA, BS, B.Eng., etc.)   \n",
       "5                    Bachelor’s degree (BA, BS, B.Eng., etc.)   \n",
       "...                                                       ...   \n",
       "88377                               Primary/elementary school   \n",
       "88601                                                     NaN   \n",
       "88802                                                     NaN   \n",
       "88816                                                     NaN   \n",
       "88863                      Professional degree (JD, MD, etc.)   \n",
       "\n",
       "                                               UndergradMajor  \\\n",
       "Respondent                                                      \n",
       "1                                                         NaN   \n",
       "2                                                         NaN   \n",
       "3                               Web development or web design   \n",
       "4           Computer science, computer engineering, or sof...   \n",
       "5           Computer science, computer engineering, or sof...   \n",
       "...                                                       ...   \n",
       "88377                                                     NaN   \n",
       "88601                                                     NaN   \n",
       "88802                                                     NaN   \n",
       "88816                                                     NaN   \n",
       "88863       Computer science, computer engineering, or sof...   \n",
       "\n",
       "                                                     EduOther  ...  \\\n",
       "Respondent                                                     ...   \n",
       "1           Taught yourself a new language, framework, or ...  ...   \n",
       "2           Taken an online course in programming or softw...  ...   \n",
       "3           Taught yourself a new language, framework, or ...  ...   \n",
       "4           Taken an online course in programming or softw...  ...   \n",
       "5           Taken an online course in programming or softw...  ...   \n",
       "...                                                       ...  ...   \n",
       "88377       Taught yourself a new language, framework, or ...  ...   \n",
       "88601                                                     NaN  ...   \n",
       "88802                                                     NaN  ...   \n",
       "88816                                                     NaN  ...   \n",
       "88863       Taken an online course in programming or softw...  ...   \n",
       "\n",
       "                                       WelcomeChange  \\\n",
       "Respondent                                             \n",
       "1            Just as welcome now as I felt last year   \n",
       "2            Just as welcome now as I felt last year   \n",
       "3            Just as welcome now as I felt last year   \n",
       "4            Just as welcome now as I felt last year   \n",
       "5            Just as welcome now as I felt last year   \n",
       "...                                              ...   \n",
       "88377                                            NaN   \n",
       "88601                                            NaN   \n",
       "88802                                            NaN   \n",
       "88816                                            NaN   \n",
       "88863       Somewhat less welcome now than last year   \n",
       "\n",
       "                                                 SONewContent   Age Gender  \\\n",
       "Respondent                                                                   \n",
       "1           Tech articles written by other developers;Indu...  14.0    Man   \n",
       "2           Tech articles written by other developers;Indu...  19.0    Man   \n",
       "3           Tech meetups or events in your area;Courses on...  28.0    Man   \n",
       "4           Tech articles written by other developers;Indu...  22.0    Man   \n",
       "5           Tech meetups or events in your area;Courses on...  30.0    Man   \n",
       "...                                                       ...   ...    ...   \n",
       "88377       Tech articles written by other developers;Tech...   NaN    Man   \n",
       "88601                                                     NaN   NaN    NaN   \n",
       "88802                                                     NaN   NaN    NaN   \n",
       "88816                                                     NaN   NaN    NaN   \n",
       "88863       Tech articles written by other developers;Indu...  18.0    Man   \n",
       "\n",
       "           Trans                Sexuality  \\\n",
       "Respondent                                  \n",
       "1             No  Straight / Heterosexual   \n",
       "2             No  Straight / Heterosexual   \n",
       "3             No  Straight / Heterosexual   \n",
       "4             No  Straight / Heterosexual   \n",
       "5             No  Straight / Heterosexual   \n",
       "...          ...                      ...   \n",
       "88377         No                      NaN   \n",
       "88601        NaN                      NaN   \n",
       "88802        NaN                      NaN   \n",
       "88816        NaN                      NaN   \n",
       "88863         No  Straight / Heterosexual   \n",
       "\n",
       "                                                    Ethnicity Dependents  \\\n",
       "Respondent                                                                 \n",
       "1                                                         NaN         No   \n",
       "2                                                         NaN         No   \n",
       "3                                                         NaN        Yes   \n",
       "4                                White or of European descent         No   \n",
       "5                    White or of European descent;Multiracial         No   \n",
       "...                                                       ...        ...   \n",
       "88377                                                     NaN         No   \n",
       "88601                                                     NaN        NaN   \n",
       "88802                                                     NaN        NaN   \n",
       "88816                                                     NaN        NaN   \n",
       "88863       Hispanic or Latino/Latina;White or of European...         No   \n",
       "\n",
       "                     SurveyLength                  SurveyEase  \n",
       "Respondent                                                     \n",
       "1           Appropriate in length  Neither easy nor difficult  \n",
       "2           Appropriate in length  Neither easy nor difficult  \n",
       "3           Appropriate in length  Neither easy nor difficult  \n",
       "4           Appropriate in length                        Easy  \n",
       "5           Appropriate in length                        Easy  \n",
       "...                           ...                         ...  \n",
       "88377       Appropriate in length                        Easy  \n",
       "88601                         NaN                         NaN  \n",
       "88802                         NaN                         NaN  \n",
       "88816                         NaN                         NaN  \n",
       "88863       Appropriate in length                        Easy  \n",
       "\n",
       "[88883 rows x 84 columns]"
      ]
     },
     "execution_count": 2,
     "metadata": {},
     "output_type": "execute_result"
    }
   ],
   "source": [
    "# Here i will read the data and i will set the column 'Respondent' to be my index\n",
    "\n",
    "survey = pd.read_csv(\"D:\\ITI DE\\Projects\\Data Exp-prep\\survey_results_public.csv\")\n",
    "survey.set_index('Respondent')"
   ]
  },
  {
   "cell_type": "code",
   "execution_count": 3,
   "id": "07abb88c",
   "metadata": {},
   "outputs": [
    {
     "data": {
      "text/html": [
       "<div>\n",
       "<style scoped>\n",
       "    .dataframe tbody tr th:only-of-type {\n",
       "        vertical-align: middle;\n",
       "    }\n",
       "\n",
       "    .dataframe tbody tr th {\n",
       "        vertical-align: top;\n",
       "    }\n",
       "\n",
       "    .dataframe thead th {\n",
       "        text-align: right;\n",
       "    }\n",
       "</style>\n",
       "<table border=\"1\" class=\"dataframe\">\n",
       "  <thead>\n",
       "    <tr style=\"text-align: right;\">\n",
       "      <th></th>\n",
       "      <th>Respondent</th>\n",
       "      <th>MainBranch</th>\n",
       "      <th>Hobbyist</th>\n",
       "      <th>OpenSourcer</th>\n",
       "      <th>OpenSource</th>\n",
       "      <th>Employment</th>\n",
       "      <th>Country</th>\n",
       "      <th>Student</th>\n",
       "      <th>EdLevel</th>\n",
       "      <th>UndergradMajor</th>\n",
       "      <th>...</th>\n",
       "      <th>WelcomeChange</th>\n",
       "      <th>SONewContent</th>\n",
       "      <th>Age</th>\n",
       "      <th>Gender</th>\n",
       "      <th>Trans</th>\n",
       "      <th>Sexuality</th>\n",
       "      <th>Ethnicity</th>\n",
       "      <th>Dependents</th>\n",
       "      <th>SurveyLength</th>\n",
       "      <th>SurveyEase</th>\n",
       "    </tr>\n",
       "  </thead>\n",
       "  <tbody>\n",
       "    <tr>\n",
       "      <th>0</th>\n",
       "      <td>1</td>\n",
       "      <td>I am a student who is learning to code</td>\n",
       "      <td>Yes</td>\n",
       "      <td>Never</td>\n",
       "      <td>The quality of OSS and closed source software ...</td>\n",
       "      <td>Not employed, and not looking for work</td>\n",
       "      <td>United Kingdom</td>\n",
       "      <td>No</td>\n",
       "      <td>Primary/elementary school</td>\n",
       "      <td>NaN</td>\n",
       "      <td>...</td>\n",
       "      <td>Just as welcome now as I felt last year</td>\n",
       "      <td>Tech articles written by other developers;Indu...</td>\n",
       "      <td>14.0</td>\n",
       "      <td>Man</td>\n",
       "      <td>No</td>\n",
       "      <td>Straight / Heterosexual</td>\n",
       "      <td>NaN</td>\n",
       "      <td>No</td>\n",
       "      <td>Appropriate in length</td>\n",
       "      <td>Neither easy nor difficult</td>\n",
       "    </tr>\n",
       "    <tr>\n",
       "      <th>1</th>\n",
       "      <td>2</td>\n",
       "      <td>I am a student who is learning to code</td>\n",
       "      <td>No</td>\n",
       "      <td>Less than once per year</td>\n",
       "      <td>The quality of OSS and closed source software ...</td>\n",
       "      <td>Not employed, but looking for work</td>\n",
       "      <td>Bosnia and Herzegovina</td>\n",
       "      <td>Yes, full-time</td>\n",
       "      <td>Secondary school (e.g. American high school, G...</td>\n",
       "      <td>NaN</td>\n",
       "      <td>...</td>\n",
       "      <td>Just as welcome now as I felt last year</td>\n",
       "      <td>Tech articles written by other developers;Indu...</td>\n",
       "      <td>19.0</td>\n",
       "      <td>Man</td>\n",
       "      <td>No</td>\n",
       "      <td>Straight / Heterosexual</td>\n",
       "      <td>NaN</td>\n",
       "      <td>No</td>\n",
       "      <td>Appropriate in length</td>\n",
       "      <td>Neither easy nor difficult</td>\n",
       "    </tr>\n",
       "    <tr>\n",
       "      <th>2</th>\n",
       "      <td>3</td>\n",
       "      <td>I am not primarily a developer, but I write co...</td>\n",
       "      <td>Yes</td>\n",
       "      <td>Never</td>\n",
       "      <td>The quality of OSS and closed source software ...</td>\n",
       "      <td>Employed full-time</td>\n",
       "      <td>Thailand</td>\n",
       "      <td>No</td>\n",
       "      <td>Bachelor’s degree (BA, BS, B.Eng., etc.)</td>\n",
       "      <td>Web development or web design</td>\n",
       "      <td>...</td>\n",
       "      <td>Just as welcome now as I felt last year</td>\n",
       "      <td>Tech meetups or events in your area;Courses on...</td>\n",
       "      <td>28.0</td>\n",
       "      <td>Man</td>\n",
       "      <td>No</td>\n",
       "      <td>Straight / Heterosexual</td>\n",
       "      <td>NaN</td>\n",
       "      <td>Yes</td>\n",
       "      <td>Appropriate in length</td>\n",
       "      <td>Neither easy nor difficult</td>\n",
       "    </tr>\n",
       "    <tr>\n",
       "      <th>3</th>\n",
       "      <td>4</td>\n",
       "      <td>I am a developer by profession</td>\n",
       "      <td>No</td>\n",
       "      <td>Never</td>\n",
       "      <td>The quality of OSS and closed source software ...</td>\n",
       "      <td>Employed full-time</td>\n",
       "      <td>United States</td>\n",
       "      <td>No</td>\n",
       "      <td>Bachelor’s degree (BA, BS, B.Eng., etc.)</td>\n",
       "      <td>Computer science, computer engineering, or sof...</td>\n",
       "      <td>...</td>\n",
       "      <td>Just as welcome now as I felt last year</td>\n",
       "      <td>Tech articles written by other developers;Indu...</td>\n",
       "      <td>22.0</td>\n",
       "      <td>Man</td>\n",
       "      <td>No</td>\n",
       "      <td>Straight / Heterosexual</td>\n",
       "      <td>White or of European descent</td>\n",
       "      <td>No</td>\n",
       "      <td>Appropriate in length</td>\n",
       "      <td>Easy</td>\n",
       "    </tr>\n",
       "    <tr>\n",
       "      <th>4</th>\n",
       "      <td>5</td>\n",
       "      <td>I am a developer by profession</td>\n",
       "      <td>Yes</td>\n",
       "      <td>Once a month or more often</td>\n",
       "      <td>OSS is, on average, of HIGHER quality than pro...</td>\n",
       "      <td>Employed full-time</td>\n",
       "      <td>Ukraine</td>\n",
       "      <td>No</td>\n",
       "      <td>Bachelor’s degree (BA, BS, B.Eng., etc.)</td>\n",
       "      <td>Computer science, computer engineering, or sof...</td>\n",
       "      <td>...</td>\n",
       "      <td>Just as welcome now as I felt last year</td>\n",
       "      <td>Tech meetups or events in your area;Courses on...</td>\n",
       "      <td>30.0</td>\n",
       "      <td>Man</td>\n",
       "      <td>No</td>\n",
       "      <td>Straight / Heterosexual</td>\n",
       "      <td>White or of European descent;Multiracial</td>\n",
       "      <td>No</td>\n",
       "      <td>Appropriate in length</td>\n",
       "      <td>Easy</td>\n",
       "    </tr>\n",
       "  </tbody>\n",
       "</table>\n",
       "<p>5 rows × 85 columns</p>\n",
       "</div>"
      ],
      "text/plain": [
       "   Respondent                                         MainBranch Hobbyist  \\\n",
       "0           1             I am a student who is learning to code      Yes   \n",
       "1           2             I am a student who is learning to code       No   \n",
       "2           3  I am not primarily a developer, but I write co...      Yes   \n",
       "3           4                     I am a developer by profession       No   \n",
       "4           5                     I am a developer by profession      Yes   \n",
       "\n",
       "                  OpenSourcer  \\\n",
       "0                       Never   \n",
       "1     Less than once per year   \n",
       "2                       Never   \n",
       "3                       Never   \n",
       "4  Once a month or more often   \n",
       "\n",
       "                                          OpenSource  \\\n",
       "0  The quality of OSS and closed source software ...   \n",
       "1  The quality of OSS and closed source software ...   \n",
       "2  The quality of OSS and closed source software ...   \n",
       "3  The quality of OSS and closed source software ...   \n",
       "4  OSS is, on average, of HIGHER quality than pro...   \n",
       "\n",
       "                               Employment                 Country  \\\n",
       "0  Not employed, and not looking for work          United Kingdom   \n",
       "1      Not employed, but looking for work  Bosnia and Herzegovina   \n",
       "2                      Employed full-time                Thailand   \n",
       "3                      Employed full-time           United States   \n",
       "4                      Employed full-time                 Ukraine   \n",
       "\n",
       "          Student                                            EdLevel  \\\n",
       "0              No                          Primary/elementary school   \n",
       "1  Yes, full-time  Secondary school (e.g. American high school, G...   \n",
       "2              No           Bachelor’s degree (BA, BS, B.Eng., etc.)   \n",
       "3              No           Bachelor’s degree (BA, BS, B.Eng., etc.)   \n",
       "4              No           Bachelor’s degree (BA, BS, B.Eng., etc.)   \n",
       "\n",
       "                                      UndergradMajor  ...  \\\n",
       "0                                                NaN  ...   \n",
       "1                                                NaN  ...   \n",
       "2                      Web development or web design  ...   \n",
       "3  Computer science, computer engineering, or sof...  ...   \n",
       "4  Computer science, computer engineering, or sof...  ...   \n",
       "\n",
       "                             WelcomeChange  \\\n",
       "0  Just as welcome now as I felt last year   \n",
       "1  Just as welcome now as I felt last year   \n",
       "2  Just as welcome now as I felt last year   \n",
       "3  Just as welcome now as I felt last year   \n",
       "4  Just as welcome now as I felt last year   \n",
       "\n",
       "                                        SONewContent   Age Gender Trans  \\\n",
       "0  Tech articles written by other developers;Indu...  14.0    Man    No   \n",
       "1  Tech articles written by other developers;Indu...  19.0    Man    No   \n",
       "2  Tech meetups or events in your area;Courses on...  28.0    Man    No   \n",
       "3  Tech articles written by other developers;Indu...  22.0    Man    No   \n",
       "4  Tech meetups or events in your area;Courses on...  30.0    Man    No   \n",
       "\n",
       "                 Sexuality                                 Ethnicity  \\\n",
       "0  Straight / Heterosexual                                       NaN   \n",
       "1  Straight / Heterosexual                                       NaN   \n",
       "2  Straight / Heterosexual                                       NaN   \n",
       "3  Straight / Heterosexual              White or of European descent   \n",
       "4  Straight / Heterosexual  White or of European descent;Multiracial   \n",
       "\n",
       "  Dependents           SurveyLength                  SurveyEase  \n",
       "0         No  Appropriate in length  Neither easy nor difficult  \n",
       "1         No  Appropriate in length  Neither easy nor difficult  \n",
       "2        Yes  Appropriate in length  Neither easy nor difficult  \n",
       "3         No  Appropriate in length                        Easy  \n",
       "4         No  Appropriate in length                        Easy  \n",
       "\n",
       "[5 rows x 85 columns]"
      ]
     },
     "execution_count": 3,
     "metadata": {},
     "output_type": "execute_result"
    }
   ],
   "source": [
    "# show the first 5 rows\n",
    "survey.head()"
   ]
  },
  {
   "cell_type": "code",
   "execution_count": null,
   "id": "05de7112",
   "metadata": {},
   "outputs": [],
   "source": []
  },
  {
   "cell_type": "markdown",
   "id": "dee056ba",
   "metadata": {},
   "source": [
    "## **Exploatroy Data Analysis & Visulazation**\n"
   ]
  },
  {
   "cell_type": "code",
   "execution_count": 4,
   "id": "f4b3812b",
   "metadata": {},
   "outputs": [
    {
     "name": "stdout",
     "output_type": "stream",
     "text": [
      "Index(['Respondent', 'MainBranch', 'Hobbyist', 'OpenSourcer', 'OpenSource',\n",
      "       'Employment', 'Country', 'Student', 'EdLevel', 'UndergradMajor',\n",
      "       'EduOther', 'OrgSize', 'DevType', 'YearsCode', 'Age1stCode',\n",
      "       'YearsCodePro', 'CareerSat', 'JobSat', 'MgrIdiot', 'MgrMoney',\n",
      "       'MgrWant', 'JobSeek', 'LastHireDate', 'LastInt', 'FizzBuzz',\n",
      "       'JobFactors', 'ResumeUpdate', 'CurrencySymbol', 'CurrencyDesc',\n",
      "       'CompTotal', 'CompFreq', 'ConvertedComp', 'WorkWeekHrs', 'WorkPlan',\n",
      "       'WorkChallenge', 'WorkRemote', 'WorkLoc', 'ImpSyn', 'CodeRev',\n",
      "       'CodeRevHrs', 'UnitTests', 'PurchaseHow', 'PurchaseWhat',\n",
      "       'LanguageWorkedWith', 'LanguageDesireNextYear', 'DatabaseWorkedWith',\n",
      "       'DatabaseDesireNextYear', 'PlatformWorkedWith',\n",
      "       'PlatformDesireNextYear', 'WebFrameWorkedWith',\n",
      "       'WebFrameDesireNextYear', 'MiscTechWorkedWith',\n",
      "       'MiscTechDesireNextYear', 'DevEnviron', 'OpSys', 'Containers',\n",
      "       'BlockchainOrg', 'BlockchainIs', 'BetterLife', 'ITperson', 'OffOn',\n",
      "       'SocialMedia', 'Extraversion', 'ScreenName', 'SOVisit1st',\n",
      "       'SOVisitFreq', 'SOVisitTo', 'SOFindAnswer', 'SOTimeSaved',\n",
      "       'SOHowMuchTime', 'SOAccount', 'SOPartFreq', 'SOJobs', 'EntTeams',\n",
      "       'SOComm', 'WelcomeChange', 'SONewContent', 'Age', 'Gender', 'Trans',\n",
      "       'Sexuality', 'Ethnicity', 'Dependents', 'SurveyLength', 'SurveyEase'],\n",
      "      dtype='object')\n"
     ]
    }
   ],
   "source": [
    "# show all columns in our dataset\n",
    "print(survey.columns)"
   ]
  },
  {
   "cell_type": "code",
   "execution_count": 5,
   "id": "52a2e21a",
   "metadata": {},
   "outputs": [
    {
     "name": "stdout",
     "output_type": "stream",
     "text": [
      "<class 'pandas.core.frame.DataFrame'>\n",
      "RangeIndex: 88883 entries, 0 to 88882\n",
      "Data columns (total 85 columns):\n",
      " #   Column                  Non-Null Count  Dtype  \n",
      "---  ------                  --------------  -----  \n",
      " 0   Respondent              88883 non-null  int64  \n",
      " 1   MainBranch              88331 non-null  object \n",
      " 2   Hobbyist                88883 non-null  object \n",
      " 3   OpenSourcer             88883 non-null  object \n",
      " 4   OpenSource              86842 non-null  object \n",
      " 5   Employment              87181 non-null  object \n",
      " 6   Country                 88751 non-null  object \n",
      " 7   Student                 87014 non-null  object \n",
      " 8   EdLevel                 86390 non-null  object \n",
      " 9   UndergradMajor          75614 non-null  object \n",
      " 10  EduOther                84260 non-null  object \n",
      " 11  OrgSize                 71791 non-null  object \n",
      " 12  DevType                 81335 non-null  object \n",
      " 13  YearsCode               87938 non-null  object \n",
      " 14  Age1stCode              87634 non-null  object \n",
      " 15  YearsCodePro            74331 non-null  object \n",
      " 16  CareerSat               72847 non-null  object \n",
      " 17  JobSat                  70988 non-null  object \n",
      " 18  MgrIdiot                61159 non-null  object \n",
      " 19  MgrMoney                61157 non-null  object \n",
      " 20  MgrWant                 61232 non-null  object \n",
      " 21  JobSeek                 80555 non-null  object \n",
      " 22  LastHireDate            79854 non-null  object \n",
      " 23  LastInt                 67155 non-null  object \n",
      " 24  FizzBuzz                71344 non-null  object \n",
      " 25  JobFactors              79371 non-null  object \n",
      " 26  ResumeUpdate            77877 non-null  object \n",
      " 27  CurrencySymbol          71392 non-null  object \n",
      " 28  CurrencyDesc            71392 non-null  object \n",
      " 29  CompTotal               55945 non-null  float64\n",
      " 30  CompFreq                63268 non-null  object \n",
      " 31  ConvertedComp           55823 non-null  float64\n",
      " 32  WorkWeekHrs             64503 non-null  float64\n",
      " 33  WorkPlan                68914 non-null  object \n",
      " 34  WorkChallenge           68141 non-null  object \n",
      " 35  WorkRemote              70284 non-null  object \n",
      " 36  WorkLoc                 70055 non-null  object \n",
      " 37  ImpSyn                  71779 non-null  object \n",
      " 38  CodeRev                 70390 non-null  object \n",
      " 39  CodeRevHrs              49790 non-null  float64\n",
      " 40  UnitTests               62668 non-null  object \n",
      " 41  PurchaseHow             61108 non-null  object \n",
      " 42  PurchaseWhat            62029 non-null  object \n",
      " 43  LanguageWorkedWith      87569 non-null  object \n",
      " 44  LanguageDesireNextYear  84088 non-null  object \n",
      " 45  DatabaseWorkedWith      76026 non-null  object \n",
      " 46  DatabaseDesireNextYear  69147 non-null  object \n",
      " 47  PlatformWorkedWith      80714 non-null  object \n",
      " 48  PlatformDesireNextYear  77443 non-null  object \n",
      " 49  WebFrameWorkedWith      65022 non-null  object \n",
      " 50  WebFrameDesireNextYear  62944 non-null  object \n",
      " 51  MiscTechWorkedWith      59586 non-null  object \n",
      " 52  MiscTechDesireNextYear  64511 non-null  object \n",
      " 53  DevEnviron              87317 non-null  object \n",
      " 54  OpSys                   87851 non-null  object \n",
      " 55  Containers              85366 non-null  object \n",
      " 56  BlockchainOrg           48175 non-null  object \n",
      " 57  BlockchainIs            60165 non-null  object \n",
      " 58  BetterLife              86269 non-null  object \n",
      " 59  ITperson                87141 non-null  object \n",
      " 60  OffOn                   86663 non-null  object \n",
      " 61  SocialMedia             84437 non-null  object \n",
      " 62  Extraversion            87305 non-null  object \n",
      " 63  ScreenName              80486 non-null  object \n",
      " 64  SOVisit1st              83877 non-null  object \n",
      " 65  SOVisitFreq             88263 non-null  object \n",
      " 66  SOVisitTo               88086 non-null  object \n",
      " 67  SOFindAnswer            87816 non-null  object \n",
      " 68  SOTimeSaved             86344 non-null  object \n",
      " 69  SOHowMuchTime           68378 non-null  object \n",
      " 70  SOAccount               87828 non-null  object \n",
      " 71  SOPartFreq              74692 non-null  object \n",
      " 72  SOJobs                  88066 non-null  object \n",
      " 73  EntTeams                87841 non-null  object \n",
      " 74  SOComm                  88131 non-null  object \n",
      " 75  WelcomeChange           85855 non-null  object \n",
      " 76  SONewContent            69560 non-null  object \n",
      " 77  Age                     79210 non-null  float64\n",
      " 78  Gender                  85406 non-null  object \n",
      " 79  Trans                   83607 non-null  object \n",
      " 80  Sexuality               76147 non-null  object \n",
      " 81  Ethnicity               76668 non-null  object \n",
      " 82  Dependents              83059 non-null  object \n",
      " 83  SurveyLength            86984 non-null  object \n",
      " 84  SurveyEase              87081 non-null  object \n",
      "dtypes: float64(5), int64(1), object(79)\n",
      "memory usage: 57.6+ MB\n"
     ]
    }
   ],
   "source": [
    "survey.info()"
   ]
  },
  {
   "cell_type": "code",
   "execution_count": 6,
   "id": "5ff89d1b",
   "metadata": {},
   "outputs": [
    {
     "data": {
      "text/plain": [
       "BlockchainOrg             40708\n",
       "CodeRevHrs                39093\n",
       "ConvertedComp             33060\n",
       "CompTotal                 32938\n",
       "MiscTechWorkedWith        29297\n",
       "BlockchainIs              28718\n",
       "PurchaseHow               27775\n",
       "MgrMoney                  27726\n",
       "MgrIdiot                  27724\n",
       "MgrWant                   27651\n",
       "PurchaseWhat              26854\n",
       "UnitTests                 26215\n",
       "WebFrameDesireNextYear    25939\n",
       "CompFreq                  25615\n",
       "WorkWeekHrs               24380\n",
       "MiscTechDesireNextYear    24372\n",
       "WebFrameWorkedWith        23861\n",
       "LastInt                   21728\n",
       "WorkChallenge             20742\n",
       "SOHowMuchTime             20505\n",
       "dtype: int64"
      ]
     },
     "execution_count": 6,
     "metadata": {},
     "output_type": "execute_result"
    }
   ],
   "source": [
    "# the most columns have Nans value in our data\n",
    "survey.isnull().sum(axis=0).sort_values(ascending=False).head(20)"
   ]
  },
  {
   "cell_type": "code",
   "execution_count": 7,
   "id": "8fee5589",
   "metadata": {},
   "outputs": [
    {
     "data": {
      "text/plain": [
       "OrgSize\n",
       "False    71791\n",
       "True     17092\n",
       "Name: count, dtype: int64"
      ]
     },
     "execution_count": 7,
     "metadata": {},
     "output_type": "execute_result"
    }
   ],
   "source": [
    "survey['OrgSize'].isnull().value_counts()"
   ]
  },
  {
   "cell_type": "code",
   "execution_count": 8,
   "id": "044c17a2",
   "metadata": {},
   "outputs": [
    {
     "data": {
      "text/plain": [
       "OrgSize\n",
       "20 to 99 employees                                    15199\n",
       "100 to 499 employees                                  12834\n",
       "10,000 or more employees                              10147\n",
       "1,000 to 4,999 employees                               7520\n",
       "2-9 employees                                          7393\n",
       "10 to 19 employees                                     6768\n",
       "500 to 999 employees                                   4575\n",
       "Just me - I am a freelancer, sole proprietor, etc.     4370\n",
       "5,000 to 9,999 employees                               2985\n",
       "Name: count, dtype: int64"
      ]
     },
     "execution_count": 8,
     "metadata": {},
     "output_type": "execute_result"
    }
   ],
   "source": [
    "survey['OrgSize'].value_counts()"
   ]
  },
  {
   "cell_type": "code",
   "execution_count": 9,
   "id": "eb3f1cb6",
   "metadata": {},
   "outputs": [
    {
     "name": "stdout",
     "output_type": "stream",
     "text": [
      "945\n"
     ]
    }
   ],
   "source": [
    "# i want to know the number of nulls in this column to see if will effect on our analysis or not to drop them\n",
    "print(survey['YearsCode'].isnull().sum())"
   ]
  },
  {
   "cell_type": "code",
   "execution_count": 10,
   "id": "92bda2c0",
   "metadata": {},
   "outputs": [
    {
     "name": "stdout",
     "output_type": "stream",
     "text": [
      "['4' nan '3' '16' '13' '6' '8' '12' '2' '5' '17' '10' '14' '35' '7'\n",
      " 'Less than 1 year' '30' '9' '26' '40' '19' '15' '20' '28' '25' '1' '22'\n",
      " '11' '33' '50' '41' '18' '34' '24' '23' '42' '27' '21' '36' '32' '39'\n",
      " '38' '31' '37' 'More than 50 years' '29' '44' '45' '48' '46' '43' '47'\n",
      " '49']\n"
     ]
    }
   ],
   "source": [
    "# we want to know if there is another data types or no , and we found that there are more than data types(numrical , string , nan)\n",
    "print(survey['YearsCode'].unique())"
   ]
  },
  {
   "cell_type": "code",
   "execution_count": 11,
   "id": "2c7fbc02",
   "metadata": {},
   "outputs": [
    {
     "data": {
      "text/plain": [
       "ConvertedComp\n",
       "False    55823\n",
       "True     33060\n",
       "Name: count, dtype: int64"
      ]
     },
     "execution_count": 11,
     "metadata": {},
     "output_type": "execute_result"
    }
   ],
   "source": [
    "# i want to know the number of NaN values in this important column\n",
    "survey['ConvertedComp'].isnull().value_counts()"
   ]
  },
  {
   "cell_type": "code",
   "execution_count": 12,
   "id": "2f4f64d2",
   "metadata": {},
   "outputs": [
    {
     "name": "stdout",
     "output_type": "stream",
     "text": [
      "[    nan   8820.  61000. ...  38766.  13272. 588012.]\n"
     ]
    }
   ],
   "source": [
    "# i want to know if there is another values otherwise Numbers or NaN\n",
    "print(survey['ConvertedComp'].unique())"
   ]
  },
  {
   "cell_type": "code",
   "execution_count": 13,
   "id": "1e5b1b60",
   "metadata": {},
   "outputs": [
    {
     "name": "stdout",
     "output_type": "stream",
     "text": [
      "[nan 'Slightly satisfied' 'Slightly dissatisfied'\n",
      " 'Neither satisfied nor dissatisfied' 'Very satisfied' 'Very dissatisfied']\n"
     ]
    }
   ],
   "source": [
    "# i want to know if there is another values otherwise satisifing degree or Nan \n",
    "print(survey['JobSat'].unique())"
   ]
  },
  {
   "cell_type": "code",
   "execution_count": 14,
   "id": "69251808",
   "metadata": {},
   "outputs": [
    {
     "data": {
      "text/plain": [
       "JobSat\n",
       "False    70988\n",
       "True     17895\n",
       "Name: count, dtype: int64"
      ]
     },
     "execution_count": 14,
     "metadata": {},
     "output_type": "execute_result"
    }
   ],
   "source": [
    "# I want to know number of NaNs in this column to determine if we replace them or drop , in here we will drop \n",
    "survey['JobSat'].isna().value_counts()\n"
   ]
  },
  {
   "cell_type": "code",
   "execution_count": null,
   "id": "94871a3e",
   "metadata": {},
   "outputs": [],
   "source": []
  },
  {
   "cell_type": "markdown",
   "id": "84896ec0",
   "metadata": {},
   "source": [
    "**Now Let's Clean the Data**\n",
    "converting the columns to their required data types.\n"
   ]
  },
  {
   "cell_type": "code",
   "execution_count": 15,
   "id": "4e359bcd",
   "metadata": {},
   "outputs": [],
   "source": [
    "# I converted the 'Age' from object to int and before that i filled the nan values with the mean\n",
    "\n",
    "survey['Age'] = survey['Age'].fillna(survey['Age'].mean()).astype(int)"
   ]
  },
  {
   "cell_type": "code",
   "execution_count": 16,
   "id": "ea8f5bba",
   "metadata": {},
   "outputs": [],
   "source": [
    "# The number of NaN values in 'YearsCode' column is 945 so i will drop them, because its have Small impact on our dataset size\n",
    "survey = survey.dropna(subset=['YearsCode'])"
   ]
  },
  {
   "cell_type": "code",
   "execution_count": 17,
   "id": "cb3549c4",
   "metadata": {},
   "outputs": [],
   "source": [
    "# also there is another problem with string 'Less than 1 year'and 'More than 50 years cant convert to int so i will replace this value with 0\n",
    "survey.loc[:, 'YearsCode'] = survey['YearsCode'].replace(\"Less than 1 year\", 0)\n",
    "\n",
    "survey.loc[:, 'YearsCode'] = survey['YearsCode'].replace(\"More than 50 years\", 51)"
   ]
  },
  {
   "cell_type": "code",
   "execution_count": 18,
   "id": "ed3db1e5",
   "metadata": {},
   "outputs": [],
   "source": [
    "###This is the same solution above but i added another column with them and converted them together..\n",
    "# convert YearsCode, YearsCodePro, and Age1stCode to integers ,\n",
    "# in this column'YearsCode' we have two sentense string(Less than 1 year , More than 50 years) so we need to convert this column to int.\n",
    "#in this column'Age1stCode' we have two sentense string(Younger than 5 years , Older than 85) so we need to convert this column to int.\n",
    "def clean_age(x):\n",
    "    if x == 'Less than 1 year':\n",
    "        return 0\n",
    "    elif x == 'More than 50 years':\n",
    "        return 51\n",
    "    elif x == 'Younger than 5 years':\n",
    "        return 4\n",
    "    elif x == 'Older than 85':\n",
    "        return 86\n",
    "    else:\n",
    "        return x\n",
    "  \n",
    "\n",
    "# Apply our cleaning function to the target columns\n",
    "survey['YearsCode'] = survey['YearsCode'].apply(clean_age)\n",
    "survey['YearsCodePro'] = survey['YearsCodePro'].apply(clean_age)\n",
    "survey['Age1stCode'] = survey['Age1stCode'].apply(clean_age)\n",
    "\n",
    "\n",
    "\n",
    "\n",
    "# in this we will replace all NaNs values in our data to 'none' to string to Avoid Errors When Analyzing\n",
    "#Many pandas functions like .value_counts() or groupby() fail or skip NaNs values\n",
    "# for col in survey.select_dtypes(include='object').columns:\n",
    "#     survey[col] = survey[col].fillna('none')"
   ]
  },
  {
   "cell_type": "code",
   "execution_count": 19,
   "id": "f7534cbb",
   "metadata": {},
   "outputs": [],
   "source": [
    "survey['YearsCode']=survey['YearsCode'].astype(int)"
   ]
  },
  {
   "cell_type": "code",
   "execution_count": 20,
   "id": "381c9501",
   "metadata": {},
   "outputs": [
    {
     "name": "stdout",
     "output_type": "stream",
     "text": [
      "WorkLoc\n",
      "False    69801\n",
      "True     18137\n",
      "Name: count, dtype: int64\n"
     ]
    }
   ],
   "source": [
    "print(survey['WorkLoc'].isna().value_counts())"
   ]
  },
  {
   "cell_type": "code",
   "execution_count": 21,
   "id": "528800ba",
   "metadata": {},
   "outputs": [
    {
     "name": "stdout",
     "output_type": "stream",
     "text": [
      "DevType\n",
      "False    80974\n",
      "True      6964\n",
      "Name: count, dtype: int64\n"
     ]
    }
   ],
   "source": [
    "print(survey['DevType'].isna().value_counts())"
   ]
  },
  {
   "cell_type": "code",
   "execution_count": 22,
   "id": "83ea07db",
   "metadata": {},
   "outputs": [
    {
     "name": "stdout",
     "output_type": "stream",
     "text": [
      "[nan\n",
      " 'Designer;Developer, back-end;Developer, front-end;Developer, full-stack'\n",
      " 'Developer, full-stack' ...\n",
      " 'Developer, full-stack;Developer, game or graphics;Developer, mobile;Marketing or sales professional;Product manager'\n",
      " 'Data or business analyst;Data scientist or machine learning specialist;Developer, full-stack;DevOps specialist;Engineer, data;Engineer, site reliability;Student'\n",
      " 'Developer, QA or test;Student;System administrator']\n"
     ]
    }
   ],
   "source": [
    "print(survey['DevType'].unique())"
   ]
  },
  {
   "cell_type": "markdown",
   "id": "387de591",
   "metadata": {},
   "source": [
    "**Breaking popular languages by developer type**\n"
   ]
  },
  {
   "cell_type": "code",
   "execution_count": 23,
   "id": "1de10999",
   "metadata": {},
   "outputs": [],
   "source": [
    "\n",
    "# Split the semicolon-separated strings into lists\n",
    "survey['DevType'] = survey['DevType'].str.split(';')\n",
    "survey['LanguageWorkedWith'] = survey['LanguageWorkedWith'].str.split(';')\n",
    "\n",
    "# Explode both lists\n",
    "lang_dev = survey.explode('DevType')\n",
    "lang_dev = lang_dev.explode('LanguageWorkedWith')\n",
    "\n",
    "# Clean whitespace\n",
    "lang_dev['DevType'] = lang_dev['DevType'].str.strip()\n",
    "lang_dev['LanguageWorkedWith'] = lang_dev['LanguageWorkedWith'].str.strip()\n",
    "\n"
   ]
  },
  {
   "cell_type": "code",
   "execution_count": 24,
   "id": "10c350cb",
   "metadata": {},
   "outputs": [
    {
     "name": "stdout",
     "output_type": "stream",
     "text": [
      "                     DevType     LanguageWorkedWith  Count\n",
      "0        Academic researcher               Assembly    741\n",
      "1        Academic researcher  Bash/Shell/PowerShell   2406\n",
      "2        Academic researcher                      C   2041\n",
      "3        Academic researcher                     C#   1435\n",
      "4        Academic researcher                    C++   2355\n",
      "5        Academic researcher                Clojure    117\n",
      "6        Academic researcher                   Dart    119\n",
      "7        Academic researcher                 Elixir     92\n",
      "8        Academic researcher                 Erlang     95\n",
      "9        Academic researcher                     F#     83\n",
      "10       Academic researcher                     Go    438\n",
      "11       Academic researcher               HTML/CSS   3300\n",
      "12       Academic researcher                   Java   2491\n",
      "13       Academic researcher             JavaScript   3205\n",
      "14       Academic researcher                 Kotlin    316\n",
      "15       Academic researcher            Objective-C    257\n",
      "16       Academic researcher              Other(s):    875\n",
      "17       Academic researcher                    PHP   1515\n",
      "18       Academic researcher                 Python   3603\n",
      "19       Academic researcher                      R   1164\n",
      "20       Academic researcher                   Ruby    402\n",
      "21       Academic researcher                   Rust    277\n",
      "22       Academic researcher                    SQL   2808\n",
      "23       Academic researcher                  Scala    291\n",
      "24       Academic researcher                  Swift    319\n",
      "25       Academic researcher             TypeScript    835\n",
      "26       Academic researcher                    VBA    366\n",
      "27       Academic researcher            WebAssembly    108\n",
      "28  Data or business analyst               Assembly    383\n",
      "29  Data or business analyst  Bash/Shell/PowerShell   2407\n"
     ]
    }
   ],
   "source": [
    "# Filter out rows where DevType or LanguageWorkedWith is empty or NaN\n",
    "lang_dev_clean = lang_dev[(lang_dev['DevType'] != '') & (lang_dev['LanguageWorkedWith'] != '')]\n",
    "\n",
    "# Group by DevType and LanguageWorkedWith and count occurrences\n",
    "lang_counts = lang_dev_clean.groupby(['DevType', 'LanguageWorkedWith']).size().reset_index(name='Count')\n",
    "\n",
    "print(lang_counts.head(30))\n"
   ]
  },
  {
   "cell_type": "markdown",
   "id": "06c13a38",
   "metadata": {},
   "source": [
    "**What are the programming languages that the Developers had worked with and what languages do they want to use in future?**\n"
   ]
  },
  {
   "cell_type": "code",
   "execution_count": 25,
   "id": "70a5fc8c",
   "metadata": {},
   "outputs": [
    {
     "name": "stdout",
     "output_type": "stream",
     "text": [
      "LanguageWorkedWith\n",
      "False    86913\n",
      "True      1025\n",
      "Name: count, dtype: int64\n",
      "LanguageDesireNextYear\n",
      "False    83488\n",
      "True      4450\n",
      "Name: count, dtype: int64\n"
     ]
    }
   ],
   "source": [
    "print(survey['LanguageWorkedWith'].isna().value_counts())\n",
    "print(survey['LanguageDesireNextYear'].isna().value_counts())"
   ]
  },
  {
   "cell_type": "code",
   "execution_count": 26,
   "id": "19ac982f",
   "metadata": {},
   "outputs": [],
   "source": [
    "#drop nulls from both tables \n",
    "\n",
    "survey = survey.dropna(subset=['LanguageDesireNextYear'])"
   ]
  },
  {
   "cell_type": "code",
   "execution_count": 27,
   "id": "5805eef5",
   "metadata": {},
   "outputs": [],
   "source": [
    "\n",
    "# Ensure all entries are strings before splitting\n",
    "survey['LanguageWorkedWith'] = survey['LanguageWorkedWith'].astype(str).str.split(';')\n",
    "\n",
    "# Explode the column into multiple rows\n",
    "Worked_with = survey.explode('LanguageWorkedWith')\n",
    "\n",
    "# Strip extra whitespace from each entry\n",
    "# Worked_with['LanguageWorkedWith'] = Worked_with['LanguageWorkedWith'].str.strip()\n",
    "# # Split multi-role entries into lists\n",
    "# survey['LanguageWorkedWith'] = survey['LanguageWorkedWith'].str.split(';')\n",
    "# Worked_with = survey.explode('LanguageWorkedWith')\n",
    "Worked_with['LanguageWorkedWith'] = Worked_with['LanguageWorkedWith'].astype(str).str.strip()"
   ]
  },
  {
   "cell_type": "code",
   "execution_count": 28,
   "id": "223821c3",
   "metadata": {},
   "outputs": [
    {
     "name": "stdout",
     "output_type": "stream",
     "text": [
      "[\"['HTML/CSS', 'Java', 'JavaScript', 'Python']\" \"['HTML/CSS']\"\n",
      " \"['C', 'C++', 'C#', 'Python', 'SQL']\" ...\n",
      " \"['Assembly', 'C++', 'HTML/CSS', 'VBA']\"\n",
      " \"['Assembly', 'Bash/Shell/PowerShell', 'C', 'C#', 'HTML/CSS', 'Java', 'JavaScript', 'PHP', 'SQL', 'Other(s):']\"\n",
      " \"['Bash/Shell/PowerShell', 'Go', 'HTML/CSS', 'JavaScript', 'WebAssembly']\"]\n"
     ]
    }
   ],
   "source": [
    "print(Worked_with['LanguageWorkedWith'].unique())"
   ]
  },
  {
   "cell_type": "code",
   "execution_count": 29,
   "id": "d94224f8",
   "metadata": {},
   "outputs": [],
   "source": [
    "# Split multi-role entries into lists\n",
    "survey['LanguageDesireNextYear'] = survey['LanguageDesireNextYear'].str.split(';')\n",
    "Worked_future = survey.explode('LanguageDesireNextYear')\n",
    "Worked_future['LanguageDesireNextYear'] = Worked_future['LanguageDesireNextYear'].str.strip()"
   ]
  },
  {
   "cell_type": "code",
   "execution_count": 30,
   "id": "2cf68b59",
   "metadata": {},
   "outputs": [
    {
     "name": "stdout",
     "output_type": "stream",
     "text": [
      "['C' 'C++' 'C#' 'Go' 'HTML/CSS' 'Java' 'JavaScript' 'Python' 'SQL'\n",
      " 'Elixir' 'WebAssembly' 'Scala' 'Bash/Shell/PowerShell' 'Erlang' 'Ruby'\n",
      " 'Rust' 'TypeScript' 'Other(s):' 'Kotlin' 'R' 'Assembly' 'Objective-C'\n",
      " 'PHP' 'Swift' 'VBA' 'Clojure' 'Dart' 'F#']\n"
     ]
    }
   ],
   "source": [
    "print(Worked_future['LanguageDesireNextYear'].unique())"
   ]
  },
  {
   "cell_type": "code",
   "execution_count": null,
   "id": "c0f9801d",
   "metadata": {},
   "outputs": [],
   "source": []
  },
  {
   "cell_type": "markdown",
   "id": "85cddcfa",
   "metadata": {},
   "source": [
    "**How many Developers are writing code for opensource ?**\n"
   ]
  },
  {
   "cell_type": "code",
   "execution_count": 31,
   "id": "9763be43",
   "metadata": {},
   "outputs": [],
   "source": [
    "# How many Developers are writing code for opensource?\n",
    "# here we filtered the values and get only values that not equal 'never'.\n",
    "\n",
    "DevelopersOpensource = survey[ ~(survey['OpenSourcer'] =='Never')]\n"
   ]
  },
  {
   "cell_type": "code",
   "execution_count": 32,
   "id": "f0441e31",
   "metadata": {},
   "outputs": [],
   "source": [
    "#use len to count the values\n",
    "count = len(DevelopersOpensource)\n"
   ]
  },
  {
   "cell_type": "code",
   "execution_count": 33,
   "id": "e00d8f6e",
   "metadata": {},
   "outputs": [
    {
     "name": "stdout",
     "output_type": "stream",
     "text": [
      "The number of developers is :53520\n"
     ]
    }
   ],
   "source": [
    "print(f'The number of developers is :{count}')"
   ]
  },
  {
   "cell_type": "markdown",
   "id": "052e4292",
   "metadata": {},
   "source": [
    "**How much are the Developers satisfied with their jobs throughout the globe?**\n"
   ]
  },
  {
   "cell_type": "code",
   "execution_count": 34,
   "id": "ad22b3b5",
   "metadata": {},
   "outputs": [
    {
     "name": "stderr",
     "output_type": "stream",
     "text": [
      "C:\\Users\\LEGION\\AppData\\Local\\Temp\\ipykernel_3460\\3200001422.py:6: FutureWarning: \n",
      "\n",
      "Passing `palette` without assigning `hue` is deprecated and will be removed in v0.14.0. Assign the `y` variable to `hue` and set `legend=False` for the same effect.\n",
      "\n",
      "  sns.countplot(data=survey, y='JobSat', order=satisfaction.value_counts().index, palette=\"viridis\")\n"
     ]
    },
    {
     "data": {
      "image/png": "[encoded data removed]",
      "text/plain": [
       "<Figure size 1000x600 with 1 Axes>"
      ]
     },
     "metadata": {},
     "output_type": "display_data"
    }
   ],
   "source": [
    "# Drop NaNs first , it's about 17000 row\n",
    "satisfaction = survey['JobSat'].dropna()\n",
    "\n",
    "# Set up the figure\n",
    "plt.figure(figsize=(10, 6))\n",
    "sns.countplot(data=survey, y='JobSat', order=satisfaction.value_counts().index, palette=\"viridis\")\n",
    "\n",
    "plt.title('Global Developer Job Satisfaction')\n",
    "plt.xlabel('Number of Developers')\n",
    "plt.ylabel('Job Satisfaction Level')\n",
    "plt.tight_layout()\n",
    "plt.show()\n"
   ]
  },
  {
   "cell_type": "markdown",
   "id": "dad9c003",
   "metadata": {},
   "source": [
    "**How much money do the Developers get throughout the globe?**\n"
   ]
  },
  {
   "cell_type": "code",
   "execution_count": 35,
   "id": "f99abc19",
   "metadata": {},
   "outputs": [],
   "source": [
    "# we have NANs values about 33K in this column, but in this case specifically we can't replace with median or mean and this because \n",
    "#The global mean salary may not represent missing values accurately — specifically if they're from lower-income countries, and we don't detroy \n",
    "# country level variations\n",
    "\n",
    "survey = survey.dropna(subset=['ConvertedComp'])"
   ]
  },
  {
   "cell_type": "code",
   "execution_count": 36,
   "id": "a5378dee",
   "metadata": {},
   "outputs": [
    {
     "data": {
      "image/png": "[encoded data removed]",
      "text/plain": [
       "<Figure size 640x480 with 1 Axes>"
      ]
     },
     "metadata": {},
     "output_type": "display_data"
    }
   ],
   "source": [
    "#we want to determine the outliers\n",
    "sns.boxplot(x=survey['ConvertedComp'])\n",
    "plt.title('Boxplot of ConvertedComp')\n",
    "plt.show()\n"
   ]
  },
  {
   "cell_type": "code",
   "execution_count": 37,
   "id": "b9fa6e26",
   "metadata": {},
   "outputs": [],
   "source": [
    "#so here we filter our data to exclude the outliers\n",
    "filtered_survey = survey[(survey['ConvertedComp'] >= 1000) & (survey['ConvertedComp'] <= 500000)]"
   ]
  },
  {
   "cell_type": "code",
   "execution_count": 38,
   "id": "3674f153",
   "metadata": {},
   "outputs": [
    {
     "data": {
      "image/png": "[encoded data removed]",
      "text/plain": [
       "<Figure size 640x480 with 1 Axes>"
      ]
     },
     "metadata": {},
     "output_type": "display_data"
    }
   ],
   "source": [
    "#after applied filtered data\n",
    "sns.boxplot(x=filtered_survey['ConvertedComp'])\n",
    "plt.title('Boxplot of ConvertedComp')\n",
    "plt.show()\n"
   ]
  },
  {
   "cell_type": "code",
   "execution_count": 39,
   "id": "99f94279",
   "metadata": {},
   "outputs": [
    {
     "name": "stdout",
     "output_type": "stream",
     "text": [
      "The total money from all developers is:3429001783.0 USD \n"
     ]
    }
   ],
   "source": [
    "#Specifically we use this column not other like 'CompTotal' because this column depend on 'CompFreq' which determine if paying'monthly, yearly, etc)\n",
    "#and 'ConvertedComp' all money in it is in USD\n",
    "total_money = filtered_survey['ConvertedComp'].sum()\n",
    "print(f'The total money from all developers is:{total_money} USD ')"
   ]
  },
  {
   "cell_type": "markdown",
   "id": "1b338237",
   "metadata": {},
   "source": [
    "**What id the relation between the age of a developer and his work?**\n"
   ]
  },
  {
   "cell_type": "code",
   "execution_count": 40,
   "id": "49e94e15",
   "metadata": {},
   "outputs": [],
   "source": [
    "#Here i will drop 730 Nans from the column\n",
    "#"
   ]
  },
  {
   "cell_type": "code",
   "execution_count": null,
   "id": "caaf5699",
   "metadata": {},
   "outputs": [],
   "source": [
    "# Split DevType where it's a string \n",
    "survey['DevType'] = survey['DevType'].apply(lambda x: x.split(';') if isinstance(x, str) else x)\n",
    "# Here i want to split multiple role with ;\n",
    "\n",
    "# Split multi-role entries into lists\n",
    "\n",
    "devtype_age = survey.explode('DevType')\n",
    "\n",
    "# Step 3: Remove rows where DevType is still NaN\n",
    "devtype_age = devtype_age.dropna(subset=['DevType'])\n",
    "\n",
    "# Clean up whitespace \n",
    "devtype_age['DevType'] = devtype_age['DevType'].str.strip()\n"
   ]
  },
  {
   "cell_type": "code",
   "execution_count": 45,
   "id": "3b2020a1",
   "metadata": {},
   "outputs": [
    {
     "data": {
      "text/plain": [
       "Index(['Developer, full-stack', 'Developer, back-end', 'Developer, front-end',\n",
       "       'Developer, desktop or enterprise applications', 'Developer, mobile'],\n",
       "      dtype='object', name='DevType')"
      ]
     },
     "execution_count": 45,
     "metadata": {},
     "output_type": "execute_result"
    }
   ],
   "source": [
    "top_roles = devtype_age['DevType'].value_counts().head(5).index\n",
    "filtered1 = devtype_age[devtype_age['DevType'].isin(top_roles)]\n",
    "\n",
    "top_roles"
   ]
  },
  {
   "cell_type": "code",
   "execution_count": 46,
   "id": "9911abef",
   "metadata": {},
   "outputs": [
    {
     "name": "stderr",
     "output_type": "stream",
     "text": [
      "C:\\Users\\LEGION\\AppData\\Local\\Temp\\ipykernel_3460\\1927754450.py:4: FutureWarning: \n",
      "\n",
      "Passing `palette` without assigning `hue` is deprecated and will be removed in v0.14.0. Assign the `x` variable to `hue` and set `legend=False` for the same effect.\n",
      "\n",
      "  sns.barplot(x='DevType', y='Age', data=avg_age, palette='viridis')\n"
     ]
    },
    {
     "data": {
      "image/png": "[encoded data removed]",
      "text/plain": [
       "<Figure size 2000x1500 with 1 Axes>"
      ]
     },
     "metadata": {},
     "output_type": "display_data"
    }
   ],
   "source": [
    "avg_age = filtered1.groupby('DevType')['Age'].mean().reset_index().sort_values(by='Age')\n",
    "\n",
    "plt.figure(figsize=(20, 15))\n",
    "sns.barplot(x='DevType', y='Age', data=avg_age, palette='viridis')\n",
    "plt.xticks(rotation=50)\n",
    "plt.title('Average Age by Developer Role')\n",
    "plt.tight_layout()\n",
    "plt.show()\n"
   ]
  },
  {
   "cell_type": "code",
   "execution_count": 47,
   "id": "2afd32c3",
   "metadata": {},
   "outputs": [
    {
     "data": {
      "image/png": "[encoded data removed]",
      "text/plain": [
       "<Figure size 640x480 with 1 Axes>"
      ]
     },
     "metadata": {},
     "output_type": "display_data"
    }
   ],
   "source": [
    "\n",
    "# i made this optional to find relation between age and years of code\n",
    "age_group_avg = survey.groupby('Age')['YearsCode'].mean().reset_index()\n",
    "sns.lineplot(data=survey, x='Age', y='YearsCode', marker='o')\n",
    "plt.title('Average Coding Experience by Age')\n",
    "plt.xlabel('Age Group')\n",
    "plt.ylabel('Avg. Years of Coding')\n",
    "plt.tight_layout()\n",
    "plt.show()\n"
   ]
  },
  {
   "cell_type": "code",
   "execution_count": 48,
   "id": "f9432c31",
   "metadata": {},
   "outputs": [
    {
     "name": "stdout",
     "output_type": "stream",
     "text": [
      "Age          int64\n",
      "YearsCode    int64\n",
      "dtype: object\n"
     ]
    }
   ],
   "source": [
    "print(survey[['Age', 'YearsCode']].dtypes)"
   ]
  },
  {
   "cell_type": "markdown",
   "id": "c42225f2",
   "metadata": {},
   "source": [
    "**What are the social media sites that the developer uses?**\n"
   ]
  },
  {
   "cell_type": "code",
   "execution_count": 49,
   "id": "695dfcd4",
   "metadata": {},
   "outputs": [],
   "source": [
    "# we have Nans in this column and i filled it with 'None' string cause if i need in any Aggs\n",
    "survey['SocialMedia'] = survey['SocialMedia'].fillna('None')"
   ]
  },
  {
   "cell_type": "code",
   "execution_count": 50,
   "id": "a9c8a1fb",
   "metadata": {},
   "outputs": [
    {
     "name": "stdout",
     "output_type": "stream",
     "text": [
      "['Reddit' 'YouTube' 'Twitter' 'VK ВКонта́кте' 'WhatsApp' 'Facebook'\n",
      " 'Instagram' \"I don't use social media\" 'None' 'WeChat 微信' 'LinkedIn'\n",
      " 'Snapchat' 'Weibo 新浪微博' 'Youku Tudou 优酷' 'Hello']\n"
     ]
    }
   ],
   "source": [
    "# give all values in the column\n",
    "print(survey['SocialMedia'].unique())"
   ]
  },
  {
   "cell_type": "code",
   "execution_count": 51,
   "id": "c5456641",
   "metadata": {},
   "outputs": [
    {
     "name": "stdout",
     "output_type": "stream",
     "text": [
      "['Reddit', 'YouTube', 'Twitter', 'VK ВКонта́кте', 'WhatsApp', 'Facebook', 'Instagram', 'WeChat 微信', 'LinkedIn', 'Snapchat', 'Weibo 新浪微博', 'Youku Tudou 优酷', 'Hello']\n"
     ]
    }
   ],
   "source": [
    "# I used list comperhension to get all values except the only two values i mentioned below because its not a media sites\n",
    "social_media = [i for i in survey['SocialMedia'].unique() if i not in [\"None\" , \"I don't use social media\"]]\n",
    "print(social_media)"
   ]
  },
  {
   "cell_type": "markdown",
   "id": "e7fa8338",
   "metadata": {},
   "source": [
    "**Which is the most popular Operating System among the Developers?**\n"
   ]
  },
  {
   "cell_type": "code",
   "execution_count": 52,
   "id": "74d40cf9",
   "metadata": {},
   "outputs": [
    {
     "name": "stdout",
     "output_type": "stream",
     "text": [
      "OpSys\n",
      "Windows        23701\n",
      "MacOS          16350\n",
      "Linux-based    13148\n",
      "BSD               44\n",
      "Name: count, dtype: int64\n"
     ]
    }
   ],
   "source": [
    "# Here we can see the Windows Os is the most OS among developers\n",
    "print(survey['OpSys'].value_counts())"
   ]
  },
  {
   "cell_type": "markdown",
   "id": "62c87c3f",
   "metadata": {},
   "source": [
    "**Why do most of the Developers update their RESUME?**\n"
   ]
  },
  {
   "cell_type": "code",
   "execution_count": 53,
   "id": "48a1299d",
   "metadata": {},
   "outputs": [
    {
     "name": "stdout",
     "output_type": "stream",
     "text": [
      "['I was preparing for a job search'\n",
      " 'I heard about a job opportunity (from a recruiter, online job posting, etc.)'\n",
      " nan 'Something else changed (education, award, media, etc.)'\n",
      " 'My job status changed (promotion, new job, etc.)'\n",
      " 'I had a negative experience or interaction at work'\n",
      " 'Re-entry into the workforce']\n"
     ]
    }
   ],
   "source": [
    "print(survey['ResumeUpdate'].unique())"
   ]
  },
  {
   "cell_type": "markdown",
   "id": "44e1895f",
   "metadata": {},
   "source": [
    "**Which type of work location is preferred by the Developers?**\n"
   ]
  },
  {
   "cell_type": "code",
   "execution_count": 54,
   "id": "7394a444",
   "metadata": {},
   "outputs": [
    {
     "name": "stdout",
     "output_type": "stream",
     "text": [
      "['Home' 'Office' 'Other place, such as a coworking space or cafe' nan]\n"
     ]
    }
   ],
   "source": [
    "print(survey['WorkLoc'].unique())"
   ]
  },
  {
   "cell_type": "code",
   "execution_count": 55,
   "id": "5a635e51",
   "metadata": {},
   "outputs": [
    {
     "name": "stdout",
     "output_type": "stream",
     "text": [
      "WorkLoc\n",
      "False    53203\n",
      "True       309\n",
      "Name: count, dtype: int64\n"
     ]
    }
   ],
   "source": [
    "print(survey['WorkLoc'].isna().value_counts())"
   ]
  },
  {
   "cell_type": "code",
   "execution_count": 56,
   "id": "4c46cdd7",
   "metadata": {},
   "outputs": [],
   "source": [
    "survey['WorkLoc'] = survey['WorkLoc'].fillna('Not knowing')\n"
   ]
  },
  {
   "cell_type": "code",
   "execution_count": 57,
   "id": "a694fff9",
   "metadata": {},
   "outputs": [
    {
     "name": "stdout",
     "output_type": "stream",
     "text": [
      "['Home' 'Office' 'Other place, such as a coworking space or cafe'\n",
      " 'Not knowing']\n"
     ]
    }
   ],
   "source": [
    "print(survey['WorkLoc'].unique())"
   ]
  },
  {
   "cell_type": "code",
   "execution_count": 58,
   "id": "6124d9bc",
   "metadata": {},
   "outputs": [
    {
     "name": "stdout",
     "output_type": "stream",
     "text": [
      "WorkLoc\n",
      "Office                                            30886\n",
      "Home                                              17638\n",
      "Other place, such as a coworking space or cafe     4679\n",
      "Not knowing                                         309\n",
      "Name: count, dtype: int64\n"
     ]
    }
   ],
   "source": [
    "#Here we will see that Office is the most location prefered by developers\n",
    "print(survey['WorkLoc'].value_counts().sort_values(ascending=False))"
   ]
  },
  {
   "cell_type": "code",
   "execution_count": 59,
   "id": "f1eed785",
   "metadata": {},
   "outputs": [
    {
     "data": {
      "image/png": "[encoded data removed]",
      "text/plain": [
       "<Figure size 1000x600 with 1 Axes>"
      ]
     },
     "metadata": {},
     "output_type": "display_data"
    }
   ],
   "source": [
    "\n",
    "# Count the occurrences of each unique value in the 'WorkLoc' column\n",
    "workloc_counts = survey['WorkLoc'].value_counts()\n",
    "\n",
    "# Create a bar chart\n",
    "plt.figure(figsize=(10, 6))\n",
    "workloc_counts.plot(kind='bar', color='skyblue')\n",
    "plt.title('Distribution of Work Locations')\n",
    "plt.xlabel('Work Location')\n",
    "plt.ylabel('Number of Developers')\n",
    "plt.xticks(rotation=45)\n",
    "plt.show()"
   ]
  },
  {
   "cell_type": "code",
   "execution_count": null,
   "id": "bcb9786c",
   "metadata": {},
   "outputs": [],
   "source": []
  },
  {
   "cell_type": "code",
   "execution_count": null,
   "id": "a80ce772",
   "metadata": {},
   "outputs": [],
   "source": []
  }
 ],
 "metadata": {
  "kernelspec": {
   "display_name": "Python 3",
   "language": "python",
   "name": "python3"
  },
  "language_info": {
   "codemirror_mode": {
    "name": "ipython",
    "version": 3
   },
   "file_extension": ".py",
   "mimetype": "text/x-python",
   "name": "python",
   "nbconvert_exporter": "python",
   "pygments_lexer": "ipython3",
   "version": "3.13.0"
  }
 },
 "nbformat": 4,
 "nbformat_minor": 5
}
